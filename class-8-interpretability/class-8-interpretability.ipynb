{
  "nbformat": 4,
  "nbformat_minor": 0,
  "metadata": {
    "colab": {
      "provenance": [],
      "private_outputs": true
    },
    "kernelspec": {
      "name": "python3",
      "display_name": "Python 3"
    },
    "language_info": {
      "name": "python"
    }
  },
  "cells": [
    {
      "cell_type": "markdown",
      "source": [
        "## **Programa de Pós-Graduação em Computação - INF/UFRGS**\n",
        "### Disciplina CMP263 - Aprendizagem de Máquina\n",
        "#### *Profa. Mariana Recamonde-Mendoza (mrmendoza@inf.ufrgs.br)*\n",
        "<br>\n",
        "\n",
        "---\n",
        "***Observação:*** *Este notebook é disponibilizado aos alunos como complemento às aulas síncronas e aos slides preparados pela professora. Desta forma, os principais conceitos são apresentados no material teórico fornecido. *\n",
        "\n",
        "\n",
        "---"
      ],
      "metadata": {
        "id": "0FA12O8Tpjmk"
      }
    },
    {
      "cell_type": "markdown",
      "source": [
        "<br>\n",
        "\n",
        "## **Tópico: Interpretabilidade e Explicabilidade de Modelos Preditivos**\n",
        "\n",
        "<br>\n",
        "\n",
        "Leitura recomendada: https://christophm.github.io/interpretable-ml-book\n",
        "\n",
        "<br>\n",
        "\n",
        "**Objetivo deste notebook**: Explorar o uso de k-fold cross-validation para treinamento e avaliação de modelos preditivos, e otimização de hiperparâmetros.\n",
        "<br>\n",
        "\n",
        "---\n",
        "\n"
      ],
      "metadata": {
        "id": "VDNPuCNO2tpq"
      }
    },
    {
      "cell_type": "markdown",
      "source": [
        "##**Interpretabilidade de um modelo de Diagnóstico de Câncer de Mama**\n",
        "\n",
        "Cada instância se refere ao exame de um(a) paciente. Os atributos são computados a partir de uma imagem digitalizada de material coletado de uma massa mamária através de uma punção aspirativa por agulha fina (PAAF). Por intermédio deste procedimento, é possível obter células de uma suspeita de lesão, que usualmente são analisadas com o auxílio de um microscópio pelo médico patologista. Os dados a serem utilizados definem um conjunto de atributos que descrevem as características dos núcleos celulares presentes na imagem, com o intuito de automatizar o processo de análise e definição do diagnóstico provável.\n",
        "\n",
        "Dez características foram analisadas para cada núcleo celular:\n",
        "\n",
        "*   raio (média das distâncias do centro aos pontos do perímetro)\n",
        "*   textura (desvio padrão dos valores de escala de cinza)\n",
        "*   perímetro\n",
        "*   área\n",
        "*   suavidade (variação local nos comprimentos dos raios)\n",
        "*   compacidade (perímetro^2 / área - 1,0)\n",
        "*   concavidade (gravidade das porções côncavas do contorno)\n",
        "*   pontos côncavos (número de porções côncavas do contorno)\n",
        "*   simetria\n",
        "*   dimensão fractal\n",
        "\n",
        "Para cada característica foram extraídas a média, o erro padrão e o pior (ou maior) valor, resultando em 30 atributos para cada exame. A última coluna, 'diagnosis', contém a classe verdadeira de cada instância, que pode ser M (maligno) ou B (benigno).\n",
        "\n"
      ],
      "metadata": {
        "id": "DbJNQfaM4ERT"
      }
    },
    {
      "cell_type": "markdown",
      "source": [
        "\n",
        "\n",
        "---\n",
        "\n"
      ],
      "metadata": {
        "id": "jiutqCcGYYM0"
      }
    },
    {
      "cell_type": "code",
      "source": [
        "%matplotlib inline\n",
        "import pandas as pd\n",
        "import numpy as np\n",
        "from sklearn.datasets import load_breast_cancer\n",
        "from sklearn.model_selection import train_test_split\n",
        "from sklearn.preprocessing import StandardScaler\n",
        "from sklearn.pipeline import Pipeline\n",
        "from sklearn.linear_model import LogisticRegression\n",
        "from sklearn.ensemble import RandomForestClassifier\n",
        "from sklearn.metrics import classification_report\n",
        "\n",
        "# Carregar dados\n",
        "data = load_breast_cancer()\n",
        "X = pd.DataFrame(data.data, columns=data.feature_names)\n",
        "y = data.target"
      ],
      "metadata": {
        "id": "UvfyHfTGLuxE"
      },
      "execution_count": null,
      "outputs": []
    },
    {
      "cell_type": "markdown",
      "source": [
        "Criação de conjunto de treino e teste, e treinamento dos modelos"
      ],
      "metadata": {
        "id": "wv3g9DCSRv2m"
      }
    },
    {
      "cell_type": "code",
      "source": [
        "X_train, X_test, y_train, y_test = train_test_split(X, y, test_size=0.2, random_state=42, stratify=y)\n",
        "\n",
        "# Regressão logística (modelo interpretável)\n",
        "pipe_lr = Pipeline([\n",
        "    (\"scaler\", StandardScaler()),\n",
        "    (\"lr\", LogisticRegression(max_iter=1000))\n",
        "])\n",
        "pipe_lr.fit(X_train, y_train)\n",
        "\n",
        "# Random Forest (modelo caixa-preta)\n",
        "rf = RandomForestClassifier(n_estimators=100, random_state=42)\n",
        "rf.fit(X_train, y_train)"
      ],
      "metadata": {
        "id": "B1Z31NFHL2oA"
      },
      "execution_count": null,
      "outputs": []
    },
    {
      "cell_type": "code",
      "source": [
        "print(\"Logistic Regression:\")\n",
        "print(classification_report(y_test, pipe_lr.predict(X_test)))\n",
        "\n",
        "print(\"Random Forest:\")\n",
        "print(classification_report(y_test, rf.predict(X_test)))\n"
      ],
      "metadata": {
        "id": "pXlaiUk6MGqT"
      },
      "execution_count": null,
      "outputs": []
    },
    {
      "cell_type": "markdown",
      "source": [
        "Análise de relevância de atributos pela regressão logística (coeficientes)"
      ],
      "metadata": {
        "id": "aO5FOvToSAj9"
      }
    },
    {
      "cell_type": "code",
      "source": [
        "coef = pipe_lr.named_steps['lr'].coef_[0]\n",
        "coef_df = pd.DataFrame({'Feature': X.columns, 'Coefficient': coef})\n",
        "coef_df = coef_df.sort_values(by='Coefficient', key=np.abs, ascending=False)\n",
        "coef_df.head(30)\n"
      ],
      "metadata": {
        "id": "lNbnA0HdMJtv"
      },
      "execution_count": null,
      "outputs": []
    },
    {
      "cell_type": "markdown",
      "source": [
        "Análise de relevância de atributos pelo random forests (feature_importances_)"
      ],
      "metadata": {
        "id": "kOuR2dRHSLHK"
      }
    },
    {
      "cell_type": "code",
      "source": [
        "importances = rf.feature_importances_\n",
        "importances_df = pd.DataFrame({'Feature': X.columns, 'Importance': importances})\n",
        "importances_df = importances_df.sort_values(by='Importance', ascending=False)\n",
        "importances_df.head(10)"
      ],
      "metadata": {
        "id": "u-8lbf3YMLxj"
      },
      "execution_count": null,
      "outputs": []
    },
    {
      "cell_type": "markdown",
      "source": [
        "SHAP"
      ],
      "metadata": {
        "id": "CjooTrljSTgU"
      }
    },
    {
      "cell_type": "code",
      "source": [
        "!pip install shap\n",
        "\n",
        "import shap\n",
        "## como o processo de calcular valores SHAP é custoso, usamos aqui apenas uma amostra dos dados\n",
        "X_train_sample = shap.utils.sample(X_train, 50)\n",
        "# calcula valores de SHAP pro modelo\n",
        "explainer = shap.Explainer(rf.predict, X_train_sample,feature_names=X_train.columns)\n",
        "shap_values = explainer(X_test)"
      ],
      "metadata": {
        "id": "f-tKO3PEOh_-"
      },
      "execution_count": null,
      "outputs": []
    },
    {
      "cell_type": "code",
      "source": [
        "shap.plots.bar(shap_values[0]) ## semelhante ao plots.waterfall."
      ],
      "metadata": {
        "id": "WEy_gi1xFrGR"
      },
      "execution_count": null,
      "outputs": []
    },
    {
      "cell_type": "code",
      "source": [
        "#shap.plots.bar(shap_values[0]) ## semelhante ao plots.waterfall.\n",
        "shap.plots.waterfall(shap_values[0], max_display=10) ##analisa a primeira instância de teste (0)"
      ],
      "metadata": {
        "id": "3JYTqemNPCNk"
      },
      "execution_count": null,
      "outputs": []
    },
    {
      "cell_type": "code",
      "source": [
        "# Explicação global  - para um conjunto de instâncias\n",
        "shap.plots.beeswarm(shap_values, max_display=15)"
      ],
      "metadata": {
        "id": "UBEwLYjHPEeb"
      },
      "execution_count": null,
      "outputs": []
    },
    {
      "cell_type": "code",
      "source": [
        "!pip install lime\n",
        "import lime\n",
        "import lime.lime_tabular\n",
        "\n",
        "explainer = lime.lime_tabular.LimeTabularExplainer(\n",
        "    training_data=np.array(X_train),\n",
        "    feature_names=X.columns,\n",
        "    class_names=data.target_names,\n",
        "    mode='classification'\n",
        ")\n",
        "\n",
        "# Explicação de uma instância\n",
        "i = 0  # índice da instância a explicar\n",
        "exp = explainer.explain_instance(X_test.iloc[i], rf.predict_proba, num_features=10)\n",
        "exp.show_in_notebook()"
      ],
      "metadata": {
        "id": "eHdlnG3cMRd5"
      },
      "execution_count": null,
      "outputs": []
    }
  ]
}